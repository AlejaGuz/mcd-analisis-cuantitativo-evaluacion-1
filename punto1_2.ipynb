{
 "cells": [
  {
   "cell_type": "code",
   "execution_count": 332,
   "metadata": {},
   "outputs": [],
   "source": [
    "import pandas as pd\n",
    "from sklearn.model_selection import train_test_split\n",
    "from sklearn.preprocessing import StandardScaler\n",
    "from scipy.stats import spearmanr\n",
    "from sklearn.linear_model import ElasticNetCV\n",
    "from sklearn.metrics import mean_squared_error\n",
    "import statsmodels.api as sm\n",
    "\n",
    "import numpy as np"
   ]
  },
  {
   "cell_type": "markdown",
   "metadata": {},
   "source": [
    "## 1.1"
   ]
  },
  {
   "cell_type": "markdown",
   "metadata": {},
   "source": [
    "### Cargar el dataset"
   ]
  },
  {
   "cell_type": "code",
   "execution_count": 333,
   "metadata": {},
   "outputs": [
    {
     "data": {
      "text/html": [
       "<div>\n",
       "<style scoped>\n",
       "    .dataframe tbody tr th:only-of-type {\n",
       "        vertical-align: middle;\n",
       "    }\n",
       "\n",
       "    .dataframe tbody tr th {\n",
       "        vertical-align: top;\n",
       "    }\n",
       "\n",
       "    .dataframe thead th {\n",
       "        text-align: right;\n",
       "    }\n",
       "</style>\n",
       "<table border=\"1\" class=\"dataframe\">\n",
       "  <thead>\n",
       "    <tr style=\"text-align: right;\">\n",
       "      <th></th>\n",
       "      <th>CRIM</th>\n",
       "      <th>ZN</th>\n",
       "      <th>INDUS</th>\n",
       "      <th>CHAS</th>\n",
       "      <th>NOX</th>\n",
       "      <th>RM</th>\n",
       "      <th>AGE</th>\n",
       "      <th>DIS</th>\n",
       "      <th>RAD</th>\n",
       "      <th>TAX</th>\n",
       "      <th>PTRATIO</th>\n",
       "      <th>B</th>\n",
       "      <th>LSTAT</th>\n",
       "      <th>MEDV</th>\n",
       "    </tr>\n",
       "  </thead>\n",
       "  <tbody>\n",
       "    <tr>\n",
       "      <th>0</th>\n",
       "      <td>0.00632</td>\n",
       "      <td>18.0</td>\n",
       "      <td>2.31</td>\n",
       "      <td>0</td>\n",
       "      <td>0.538</td>\n",
       "      <td>6.575</td>\n",
       "      <td>65.2</td>\n",
       "      <td>4.0900</td>\n",
       "      <td>1</td>\n",
       "      <td>296.0</td>\n",
       "      <td>15.3</td>\n",
       "      <td>396.90</td>\n",
       "      <td>4.98</td>\n",
       "      <td>24.0</td>\n",
       "    </tr>\n",
       "    <tr>\n",
       "      <th>1</th>\n",
       "      <td>0.02731</td>\n",
       "      <td>0.0</td>\n",
       "      <td>7.07</td>\n",
       "      <td>0</td>\n",
       "      <td>0.469</td>\n",
       "      <td>6.421</td>\n",
       "      <td>78.9</td>\n",
       "      <td>4.9671</td>\n",
       "      <td>2</td>\n",
       "      <td>242.0</td>\n",
       "      <td>17.8</td>\n",
       "      <td>396.90</td>\n",
       "      <td>9.14</td>\n",
       "      <td>21.6</td>\n",
       "    </tr>\n",
       "    <tr>\n",
       "      <th>2</th>\n",
       "      <td>0.02729</td>\n",
       "      <td>0.0</td>\n",
       "      <td>7.07</td>\n",
       "      <td>0</td>\n",
       "      <td>0.469</td>\n",
       "      <td>7.185</td>\n",
       "      <td>61.1</td>\n",
       "      <td>4.9671</td>\n",
       "      <td>2</td>\n",
       "      <td>242.0</td>\n",
       "      <td>17.8</td>\n",
       "      <td>392.83</td>\n",
       "      <td>4.03</td>\n",
       "      <td>34.7</td>\n",
       "    </tr>\n",
       "    <tr>\n",
       "      <th>3</th>\n",
       "      <td>0.03237</td>\n",
       "      <td>0.0</td>\n",
       "      <td>2.18</td>\n",
       "      <td>0</td>\n",
       "      <td>0.458</td>\n",
       "      <td>6.998</td>\n",
       "      <td>45.8</td>\n",
       "      <td>6.0622</td>\n",
       "      <td>3</td>\n",
       "      <td>222.0</td>\n",
       "      <td>18.7</td>\n",
       "      <td>394.63</td>\n",
       "      <td>2.94</td>\n",
       "      <td>33.4</td>\n",
       "    </tr>\n",
       "    <tr>\n",
       "      <th>4</th>\n",
       "      <td>0.06905</td>\n",
       "      <td>0.0</td>\n",
       "      <td>2.18</td>\n",
       "      <td>0</td>\n",
       "      <td>0.458</td>\n",
       "      <td>7.147</td>\n",
       "      <td>54.2</td>\n",
       "      <td>6.0622</td>\n",
       "      <td>3</td>\n",
       "      <td>222.0</td>\n",
       "      <td>18.7</td>\n",
       "      <td>396.90</td>\n",
       "      <td>5.33</td>\n",
       "      <td>36.2</td>\n",
       "    </tr>\n",
       "  </tbody>\n",
       "</table>\n",
       "</div>"
      ],
      "text/plain": [
       "      CRIM    ZN  INDUS  CHAS    NOX     RM   AGE     DIS  RAD    TAX  \\\n",
       "0  0.00632  18.0   2.31     0  0.538  6.575  65.2  4.0900    1  296.0   \n",
       "1  0.02731   0.0   7.07     0  0.469  6.421  78.9  4.9671    2  242.0   \n",
       "2  0.02729   0.0   7.07     0  0.469  7.185  61.1  4.9671    2  242.0   \n",
       "3  0.03237   0.0   2.18     0  0.458  6.998  45.8  6.0622    3  222.0   \n",
       "4  0.06905   0.0   2.18     0  0.458  7.147  54.2  6.0622    3  222.0   \n",
       "\n",
       "   PTRATIO       B  LSTAT  MEDV  \n",
       "0     15.3  396.90   4.98  24.0  \n",
       "1     17.8  396.90   9.14  21.6  \n",
       "2     17.8  392.83   4.03  34.7  \n",
       "3     18.7  394.63   2.94  33.4  \n",
       "4     18.7  396.90   5.33  36.2  "
      ]
     },
     "execution_count": 333,
     "metadata": {},
     "output_type": "execute_result"
    }
   ],
   "source": [
    "url = \"https://archive.ics.uci.edu/ml/machine-learning-databases/housing/housing.data\"\n",
    "column_names = ['CRIM', 'ZN', 'INDUS', 'CHAS', 'NOX', 'RM', 'AGE', 'DIS', 'RAD', 'TAX', 'PTRATIO', 'B', 'LSTAT', 'MEDV']\n",
    "df = pd.read_csv(url, header=None, delimiter=r\"\\s+\", names=column_names)\n",
    "\n",
    "# Muestra las primeras filas del DataFrames\n",
    "df.head()"
   ]
  },
  {
   "cell_type": "markdown",
   "metadata": {},
   "source": [
    "### Dividir el dataset"
   ]
  },
  {
   "cell_type": "code",
   "execution_count": 334,
   "metadata": {},
   "outputs": [],
   "source": [
    "# split the df into 80 20 using train_test_split\n",
    "X = df.drop('MEDV', axis=1)\n",
    "y = df['MEDV']\n",
    "X_train, X_test, y_train, y_test = train_test_split(X, y, test_size=0.2, random_state=0)"
   ]
  },
  {
   "cell_type": "markdown",
   "metadata": {},
   "source": [
    "### Modelo 1"
   ]
  },
  {
   "cell_type": "code",
   "execution_count": 335,
   "metadata": {},
   "outputs": [],
   "source": [
    "# Estandarizar las variables\n",
    "scaler = StandardScaler()\n",
    "X_train_scaled = scaler.fit_transform(X_train)\n",
    "\n",
    "# Convertir a DataFrame\n",
    "X_train_scaled = pd.DataFrame(X_train_scaled, columns=X_train.columns, index=X_train.index)"
   ]
  },
  {
   "cell_type": "markdown",
   "metadata": {},
   "source": [
    "### Distancia de Mahalanobis\n",
    "Usando el vector de medianas y la matriz de correlación de Spearman para calcular la Distancia de Mahalanobis."
   ]
  },
  {
   "cell_type": "code",
   "execution_count": 336,
   "metadata": {},
   "outputs": [],
   "source": [
    "def mahalanobis_distance(x, medians, inv_cov_matrix):\n",
    "    delta = x - medians\n",
    "    return np.sqrt(np.dot(np.dot(delta, inv_cov_matrix), delta))\n"
   ]
  },
  {
   "cell_type": "code",
   "execution_count": 337,
   "metadata": {},
   "outputs": [
    {
     "data": {
      "text/html": [
       "<div>\n",
       "<style scoped>\n",
       "    .dataframe tbody tr th:only-of-type {\n",
       "        vertical-align: middle;\n",
       "    }\n",
       "\n",
       "    .dataframe tbody tr th {\n",
       "        vertical-align: top;\n",
       "    }\n",
       "\n",
       "    .dataframe thead th {\n",
       "        text-align: right;\n",
       "    }\n",
       "</style>\n",
       "<table border=\"1\" class=\"dataframe\">\n",
       "  <thead>\n",
       "    <tr style=\"text-align: right;\">\n",
       "      <th></th>\n",
       "      <th>CRIM</th>\n",
       "      <th>ZN</th>\n",
       "      <th>INDUS</th>\n",
       "      <th>CHAS</th>\n",
       "      <th>NOX</th>\n",
       "      <th>RM</th>\n",
       "      <th>AGE</th>\n",
       "      <th>DIS</th>\n",
       "      <th>RAD</th>\n",
       "      <th>TAX</th>\n",
       "      <th>PTRATIO</th>\n",
       "      <th>B</th>\n",
       "      <th>LSTAT</th>\n",
       "      <th>mahalanobis</th>\n",
       "    </tr>\n",
       "  </thead>\n",
       "  <tbody>\n",
       "    <tr>\n",
       "      <th>220</th>\n",
       "      <td>-0.372574</td>\n",
       "      <td>-0.499608</td>\n",
       "      <td>-0.704925</td>\n",
       "      <td>3.664502</td>\n",
       "      <td>-0.424879</td>\n",
       "      <td>0.935678</td>\n",
       "      <td>0.693669</td>\n",
       "      <td>-0.437218</td>\n",
       "      <td>-0.162242</td>\n",
       "      <td>-0.561656</td>\n",
       "      <td>-0.484638</td>\n",
       "      <td>0.371691</td>\n",
       "      <td>-0.411000</td>\n",
       "      <td>4.359109</td>\n",
       "    </tr>\n",
       "    <tr>\n",
       "      <th>71</th>\n",
       "      <td>-0.397099</td>\n",
       "      <td>-0.499608</td>\n",
       "      <td>-0.044878</td>\n",
       "      <td>-0.272888</td>\n",
       "      <td>-1.241859</td>\n",
       "      <td>-0.491181</td>\n",
       "      <td>-1.835528</td>\n",
       "      <td>0.730055</td>\n",
       "      <td>-0.624648</td>\n",
       "      <td>-0.573376</td>\n",
       "      <td>0.336491</td>\n",
       "      <td>0.205012</td>\n",
       "      <td>-0.387681</td>\n",
       "      <td>3.694088</td>\n",
       "    </tr>\n",
       "    <tr>\n",
       "      <th>240</th>\n",
       "      <td>-0.402693</td>\n",
       "      <td>0.771168</td>\n",
       "      <td>-0.886760</td>\n",
       "      <td>-0.272888</td>\n",
       "      <td>-1.111490</td>\n",
       "      <td>0.857849</td>\n",
       "      <td>-0.524621</td>\n",
       "      <td>1.234769</td>\n",
       "      <td>-0.393445</td>\n",
       "      <td>-0.602677</td>\n",
       "      <td>-0.849584</td>\n",
       "      <td>0.366609</td>\n",
       "      <td>-0.181919</td>\n",
       "      <td>3.285733</td>\n",
       "    </tr>\n",
       "    <tr>\n",
       "      <th>6</th>\n",
       "      <td>-0.405769</td>\n",
       "      <td>0.029882</td>\n",
       "      <td>-0.465819</td>\n",
       "      <td>-0.272888</td>\n",
       "      <td>-0.277127</td>\n",
       "      <td>-0.417676</td>\n",
       "      <td>-0.086464</td>\n",
       "      <td>0.861527</td>\n",
       "      <td>-0.509046</td>\n",
       "      <td>-0.538216</td>\n",
       "      <td>-1.488240</td>\n",
       "      <td>0.415732</td>\n",
       "      <td>-0.037886</td>\n",
       "      <td>3.422002</td>\n",
       "    </tr>\n",
       "    <tr>\n",
       "      <th>417</th>\n",
       "      <td>2.774932</td>\n",
       "      <td>-0.499608</td>\n",
       "      <td>0.998884</td>\n",
       "      <td>-0.272888</td>\n",
       "      <td>1.070021</td>\n",
       "      <td>-1.438097</td>\n",
       "      <td>0.715042</td>\n",
       "      <td>-1.021528</td>\n",
       "      <td>1.687378</td>\n",
       "      <td>1.542121</td>\n",
       "      <td>0.792674</td>\n",
       "      <td>-2.613393</td>\n",
       "      <td>1.911362</td>\n",
       "      <td>5.191490</td>\n",
       "    </tr>\n",
       "  </tbody>\n",
       "</table>\n",
       "</div>"
      ],
      "text/plain": [
       "         CRIM        ZN     INDUS      CHAS       NOX        RM       AGE  \\\n",
       "220 -0.372574 -0.499608 -0.704925  3.664502 -0.424879  0.935678  0.693669   \n",
       "71  -0.397099 -0.499608 -0.044878 -0.272888 -1.241859 -0.491181 -1.835528   \n",
       "240 -0.402693  0.771168 -0.886760 -0.272888 -1.111490  0.857849 -0.524621   \n",
       "6   -0.405769  0.029882 -0.465819 -0.272888 -0.277127 -0.417676 -0.086464   \n",
       "417  2.774932 -0.499608  0.998884 -0.272888  1.070021 -1.438097  0.715042   \n",
       "\n",
       "          DIS       RAD       TAX   PTRATIO         B     LSTAT  mahalanobis  \n",
       "220 -0.437218 -0.162242 -0.561656 -0.484638  0.371691 -0.411000     4.359109  \n",
       "71   0.730055 -0.624648 -0.573376  0.336491  0.205012 -0.387681     3.694088  \n",
       "240  1.234769 -0.393445 -0.602677 -0.849584  0.366609 -0.181919     3.285733  \n",
       "6    0.861527 -0.509046 -0.538216 -1.488240  0.415732 -0.037886     3.422002  \n",
       "417 -1.021528  1.687378  1.542121  0.792674 -2.613393  1.911362     5.191490  "
      ]
     },
     "execution_count": 337,
     "metadata": {},
     "output_type": "execute_result"
    }
   ],
   "source": [
    "# matriz de correlación de Spearman\n",
    "spearman_corr = spearmanr(X_train_scaled).correlation\n",
    "\n",
    "# Invertir la matriz de correlación para usar en la fórmula de la distancia de Mahalanobis\n",
    "inv_cov_matrix = np.linalg.inv(spearman_corr)\n",
    "\n",
    "# Calcular el vector de medianas\n",
    "medians = X_train_scaled.median().values\n",
    "\n",
    "# Aplicar la función mahalanobis_distance a cada fila del DataFrame\n",
    "X_train_scaled['mahalanobis'] = X_train_scaled.apply(mahalanobis_distance, axis=1, args=(medians, inv_cov_matrix))\n",
    "\n",
    "X_train_scaled.head()\n"
   ]
  },
  {
   "cell_type": "code",
   "execution_count": 338,
   "metadata": {},
   "outputs": [
    {
     "data": {
      "text/plain": [
       "(404,)"
      ]
     },
     "execution_count": 338,
     "metadata": {},
     "output_type": "execute_result"
    }
   ],
   "source": [
    "X_train_scaled.shape\n",
    "y_train.shape"
   ]
  },
  {
   "cell_type": "code",
   "execution_count": 339,
   "metadata": {},
   "outputs": [],
   "source": [
    "# Filtrar atípicos\n",
    "threshold = np.percentile(X_train_scaled['mahalanobis'], 95)\n",
    "X_train_clean = X_train_scaled[X_train_scaled['mahalanobis'] < threshold]\n",
    "\n",
    "# Filtrar los valores de y_train correspondientes a los outliers\n",
    "y_train_clean = y_train.loc[X_train_clean.index]"
   ]
  },
  {
   "cell_type": "code",
   "execution_count": 340,
   "metadata": {},
   "outputs": [
    {
     "data": {
      "text/html": [
       "<div>\n",
       "<style scoped>\n",
       "    .dataframe tbody tr th:only-of-type {\n",
       "        vertical-align: middle;\n",
       "    }\n",
       "\n",
       "    .dataframe tbody tr th {\n",
       "        vertical-align: top;\n",
       "    }\n",
       "\n",
       "    .dataframe thead th {\n",
       "        text-align: right;\n",
       "    }\n",
       "</style>\n",
       "<table border=\"1\" class=\"dataframe\">\n",
       "  <thead>\n",
       "    <tr style=\"text-align: right;\">\n",
       "      <th></th>\n",
       "      <th>CRIM</th>\n",
       "      <th>ZN</th>\n",
       "      <th>INDUS</th>\n",
       "      <th>CHAS</th>\n",
       "      <th>NOX</th>\n",
       "      <th>RM</th>\n",
       "      <th>AGE</th>\n",
       "      <th>DIS</th>\n",
       "      <th>RAD</th>\n",
       "      <th>TAX</th>\n",
       "      <th>PTRATIO</th>\n",
       "      <th>B</th>\n",
       "      <th>LSTAT</th>\n",
       "    </tr>\n",
       "  </thead>\n",
       "  <tbody>\n",
       "    <tr>\n",
       "      <th>220</th>\n",
       "      <td>-0.372574</td>\n",
       "      <td>-0.499608</td>\n",
       "      <td>-0.704925</td>\n",
       "      <td>3.664502</td>\n",
       "      <td>-0.424879</td>\n",
       "      <td>0.935678</td>\n",
       "      <td>0.693669</td>\n",
       "      <td>-0.437218</td>\n",
       "      <td>-0.162242</td>\n",
       "      <td>-0.561656</td>\n",
       "      <td>-0.484638</td>\n",
       "      <td>0.371691</td>\n",
       "      <td>-0.411000</td>\n",
       "    </tr>\n",
       "    <tr>\n",
       "      <th>71</th>\n",
       "      <td>-0.397099</td>\n",
       "      <td>-0.499608</td>\n",
       "      <td>-0.044878</td>\n",
       "      <td>-0.272888</td>\n",
       "      <td>-1.241859</td>\n",
       "      <td>-0.491181</td>\n",
       "      <td>-1.835528</td>\n",
       "      <td>0.730055</td>\n",
       "      <td>-0.624648</td>\n",
       "      <td>-0.573376</td>\n",
       "      <td>0.336491</td>\n",
       "      <td>0.205012</td>\n",
       "      <td>-0.387681</td>\n",
       "    </tr>\n",
       "    <tr>\n",
       "      <th>240</th>\n",
       "      <td>-0.402693</td>\n",
       "      <td>0.771168</td>\n",
       "      <td>-0.886760</td>\n",
       "      <td>-0.272888</td>\n",
       "      <td>-1.111490</td>\n",
       "      <td>0.857849</td>\n",
       "      <td>-0.524621</td>\n",
       "      <td>1.234769</td>\n",
       "      <td>-0.393445</td>\n",
       "      <td>-0.602677</td>\n",
       "      <td>-0.849584</td>\n",
       "      <td>0.366609</td>\n",
       "      <td>-0.181919</td>\n",
       "    </tr>\n",
       "    <tr>\n",
       "      <th>6</th>\n",
       "      <td>-0.405769</td>\n",
       "      <td>0.029882</td>\n",
       "      <td>-0.465819</td>\n",
       "      <td>-0.272888</td>\n",
       "      <td>-0.277127</td>\n",
       "      <td>-0.417676</td>\n",
       "      <td>-0.086464</td>\n",
       "      <td>0.861527</td>\n",
       "      <td>-0.509046</td>\n",
       "      <td>-0.538216</td>\n",
       "      <td>-1.488240</td>\n",
       "      <td>0.415732</td>\n",
       "      <td>-0.037886</td>\n",
       "    </tr>\n",
       "    <tr>\n",
       "      <th>417</th>\n",
       "      <td>2.774932</td>\n",
       "      <td>-0.499608</td>\n",
       "      <td>0.998884</td>\n",
       "      <td>-0.272888</td>\n",
       "      <td>1.070021</td>\n",
       "      <td>-1.438097</td>\n",
       "      <td>0.715042</td>\n",
       "      <td>-1.021528</td>\n",
       "      <td>1.687378</td>\n",
       "      <td>1.542121</td>\n",
       "      <td>0.792674</td>\n",
       "      <td>-2.613393</td>\n",
       "      <td>1.911362</td>\n",
       "    </tr>\n",
       "  </tbody>\n",
       "</table>\n",
       "</div>"
      ],
      "text/plain": [
       "         CRIM        ZN     INDUS      CHAS       NOX        RM       AGE  \\\n",
       "220 -0.372574 -0.499608 -0.704925  3.664502 -0.424879  0.935678  0.693669   \n",
       "71  -0.397099 -0.499608 -0.044878 -0.272888 -1.241859 -0.491181 -1.835528   \n",
       "240 -0.402693  0.771168 -0.886760 -0.272888 -1.111490  0.857849 -0.524621   \n",
       "6   -0.405769  0.029882 -0.465819 -0.272888 -0.277127 -0.417676 -0.086464   \n",
       "417  2.774932 -0.499608  0.998884 -0.272888  1.070021 -1.438097  0.715042   \n",
       "\n",
       "          DIS       RAD       TAX   PTRATIO         B     LSTAT  \n",
       "220 -0.437218 -0.162242 -0.561656 -0.484638  0.371691 -0.411000  \n",
       "71   0.730055 -0.624648 -0.573376  0.336491  0.205012 -0.387681  \n",
       "240  1.234769 -0.393445 -0.602677 -0.849584  0.366609 -0.181919  \n",
       "6    0.861527 -0.509046 -0.538216 -1.488240  0.415732 -0.037886  \n",
       "417 -1.021528  1.687378  1.542121  0.792674 -2.613393  1.911362  "
      ]
     },
     "execution_count": 340,
     "metadata": {},
     "output_type": "execute_result"
    }
   ],
   "source": [
    "X_train_clean = X_train_clean.drop('mahalanobis', axis=1)\n",
    "X_train_clean.head()"
   ]
  },
  {
   "cell_type": "markdown",
   "metadata": {},
   "source": [
    "### Modelo Elastic-Net"
   ]
  },
  {
   "cell_type": "code",
   "execution_count": 341,
   "metadata": {},
   "outputs": [],
   "source": [
    "# Ranggos de hiperparámetros\n",
    "l1_ratios = np.linspace(0.1, 0.9, 9)\n",
    "alphas = np.logspace(-4, 0, 10)"
   ]
  },
  {
   "cell_type": "code",
   "execution_count": 342,
   "metadata": {},
   "outputs": [],
   "source": [
    "#modelo ElasticNetCV\n",
    "elastic_net_cv = ElasticNetCV(l1_ratio=l1_ratios, alphas=alphas, cv=5, random_state=0)\n",
    "results = elastic_net_cv.fit(X_train_clean, y_train_clean)"
   ]
  },
  {
   "cell_type": "code",
   "execution_count": 343,
   "metadata": {},
   "outputs": [
    {
     "data": {
      "text/plain": [
       "220   -6.374384\n",
       "71    -0.200929\n",
       "240   -5.616937\n",
       "6     -0.370732\n",
       "417    4.003765\n",
       "         ...   \n",
       "323   -0.510318\n",
       "192    2.644900\n",
       "117   -4.388670\n",
       "47    -1.846922\n",
       "172    1.051573\n",
       "Name: MEDV, Length: 383, dtype: float64"
      ]
     },
     "execution_count": 343,
     "metadata": {},
     "output_type": "execute_result"
    }
   ],
   "source": [
    "y_pred = results.predict(X_train_clean)\n",
    "residuals = y_train_clean - y_pred\n",
    "residuals"
   ]
  },
  {
   "cell_type": "code",
   "execution_count": 344,
   "metadata": {},
   "outputs": [
    {
     "name": "stdout",
     "output_type": "stream",
     "text": [
      "Mejor l1_ratio: 0.1\n",
      "Mejor alpha: 0.046415888336127774\n"
     ]
    }
   ],
   "source": [
    "# Mejores parámetros encontrados\n",
    "print(\"Mejor l1_ratio:\", elastic_net_cv.l1_ratio_)\n",
    "print(\"Mejor alpha:\", elastic_net_cv.alpha_)"
   ]
  },
  {
   "cell_type": "markdown",
   "metadata": {},
   "source": [
    "#### Ecuación Modelo 1"
   ]
  },
  {
   "cell_type": "code",
   "execution_count": 345,
   "metadata": {},
   "outputs": [
    {
     "name": "stdout",
     "output_type": "stream",
     "text": [
      "Ecuación de regresión:\n",
      "MEDV = 22.5676 + (-0.6722)*CRIM + (0.5963)*ZN + (-0.1327)*INDUS + (0.8066)*CHAS + (-1.3970)*NOX + (3.2617)*RM + (-0.2837)*AGE + (-2.3649)*DIS + (1.0197)*RAD + (-1.0033)*TAX + (-2.0776)*PTRATIO + (0.7784)*B + (-3.2308)*LSTAT\n"
     ]
    }
   ],
   "source": [
    "# Coeficientes del modelo\n",
    "coefficients = elastic_net_cv.coef_\n",
    "\n",
    "# Intercepción\n",
    "intercept = elastic_net_cv.intercept_\n",
    "\n",
    "# Nombres de las columnas (variables)\n",
    "features = X_train.columns\n",
    "\n",
    "# Construir la ecuación en formato de texto\n",
    "regression_eq = f\"MEDV = {intercept:.4f}\"\n",
    "for coef, feature in zip(coefficients, features):\n",
    "    regression_eq += f\" + ({coef:.4f})*{feature}\"\n",
    "\n",
    "print(\"Ecuación de regresión:\")\n",
    "print(regression_eq)\n"
   ]
  },
  {
   "cell_type": "markdown",
   "metadata": {},
   "source": [
    "### Evaluar el Modelo 1"
   ]
  },
  {
   "cell_type": "code",
   "execution_count": 346,
   "metadata": {},
   "outputs": [
    {
     "name": "stderr",
     "output_type": "stream",
     "text": [
      "/Users/danielmartinezvillegas/anaconda3/envs/personal/lib/python3.8/site-packages/sklearn/base.py:464: UserWarning: X does not have valid feature names, but ElasticNetCV was fitted with feature names\n",
      "  warnings.warn(\n"
     ]
    }
   ],
   "source": [
    "# Estandarizar el conjunto de prueba\n",
    "X_test_scaled = scaler.transform(X_test)\n",
    "\n",
    "# Realizar predicciones con el modelo ajustado\n",
    "y_pred = elastic_net_cv.predict(X_test_scaled)"
   ]
  },
  {
   "cell_type": "code",
   "execution_count": 347,
   "metadata": {},
   "outputs": [
    {
     "name": "stdout",
     "output_type": "stream",
     "text": [
      "RMSE en el conjunto de prueba: 5.8309678417663315\n"
     ]
    }
   ],
   "source": [
    "rmse = mean_squared_error(y_test, y_pred, squared=False)\n",
    "print(\"RMSE en el conjunto de prueba:\", rmse)"
   ]
  },
  {
   "cell_type": "markdown",
   "metadata": {},
   "source": [
    "- El modelo 1 tiene un RMSE de **5.83**\n",
    "- El RMSE de 5.79 es menor que la desviación estándar de MEDV (9.07). Esto es una buena señal y sugiere que tu modelo está realizando predicciones razonablemente precisas. Generalmente, si el RMSE es menor que la desviación estándar, se considera que el modelo tiene una precisión aceptable.\n",
    "- El RMSE es aproximadamente el 26% del valor medio de MEDV (5.79 / 22.22 ≈ 0.26). Esto nos da una idea de que el error promedio de las predicciones es una cuarta parte del valor medio de las propiedades, lo cual puede ser aceptable dependiendo de tus requisitos de precisión."
   ]
  },
  {
   "cell_type": "code",
   "execution_count": 348,
   "metadata": {},
   "outputs": [
    {
     "name": "stdout",
     "output_type": "stream",
     "text": [
      "Average MEDV: 22.21960784313725\n",
      "Scale MEDV: 9.068332880459835\n"
     ]
    }
   ],
   "source": [
    "# get average and scale of MEDV from the test set\n",
    "average_MEDV = y_test.mean()\n",
    "scale_MEDV = y_test.std()\n",
    "print(\"Average MEDV:\", average_MEDV)\n",
    "print(\"Scale MEDV:\", scale_MEDV)"
   ]
  },
  {
   "cell_type": "markdown",
   "metadata": {},
   "source": [
    "### Evaluación de supuestos "
   ]
  },
  {
   "cell_type": "markdown",
   "metadata": {},
   "source": [
    "#### Prueba de independencia"
   ]
  },
  {
   "cell_type": "code",
   "execution_count": 349,
   "metadata": {},
   "outputs": [
    {
     "name": "stdout",
     "output_type": "stream",
     "text": [
      "Estadístico de Durbin-Watson: 1.962791086454944\n"
     ]
    }
   ],
   "source": [
    "# Prueba de INDEPENDENCIA\n",
    "\n",
    "durbin_watson_statistic = sm.stats.stattools.durbin_watson(residuals)\n",
    "print(\"Estadístico de Durbin-Watson:\", durbin_watson_statistic)"
   ]
  },
  {
   "cell_type": "markdown",
   "metadata": {},
   "source": [
    "- El valor de 1.9628 indica  que hay muy poca o ninguna evidencia de autocorrelación en los residuos del modelo 1. \n",
    "- Significa que la información en los residuos de una observación no proporciona información sobre los residuos de otra\n",
    "- El supuesto de independencia se cumple"
   ]
  },
  {
   "cell_type": "markdown",
   "metadata": {},
   "source": [
    "#### Prueba de normalidad"
   ]
  },
  {
   "cell_type": "code",
   "execution_count": 350,
   "metadata": {},
   "outputs": [
    {
     "name": "stdout",
     "output_type": "stream",
     "text": [
      "Shapiro-Wilk Test:\n",
      "Statistic = 0.8873714804649353 , P-value = 3.7296785020583887e-16\n",
      "\n",
      "Anderson-Darling Test:\n",
      "Statistic = 8.077231479638954\n",
      "Significance Levels: [15.  10.   5.   2.5  1. ]\n",
      "Critical Values: [0.57  0.649 0.779 0.909 1.081]\n"
     ]
    }
   ],
   "source": [
    "import scipy.stats as stats\n",
    "\n",
    "# Prueba de Shapiro-Wilk\n",
    "shapiro_test_statistic, shapiro_p_value = stats.shapiro(residuals)\n",
    "print(\"Shapiro-Wilk Test:\")\n",
    "print(\"Statistic =\", shapiro_test_statistic, \", P-value =\", shapiro_p_value)\n",
    "\n",
    "# Prueba de Anderson-Darling\n",
    "anderson_test = stats.anderson(residuals, dist='norm')\n",
    "print(\"\\nAnderson-Darling Test:\")\n",
    "print(\"Statistic =\", anderson_test.statistic)\n",
    "print(\"Significance Levels:\", anderson_test.significance_level)\n",
    "print(\"Critical Values:\", anderson_test.critical_values)\n"
   ]
  },
  {
   "cell_type": "code",
   "execution_count": 351,
   "metadata": {},
   "outputs": [
    {
     "data": {
      "image/png": "[encoded data removed]",
      "text/plain": [
       "<Figure size 800x600 with 1 Axes>"
      ]
     },
     "metadata": {},
     "output_type": "display_data"
    }
   ],
   "source": [
    "import matplotlib.pyplot as plt\n",
    "import statsmodels.api as sm\n",
    "from statsmodels.graphics.gofplots import qqplot\n",
    "\n",
    "fig, ax = plt.subplots(figsize=(8, 6))\n",
    "qqplot(residuals, line='s', ax=ax)\n",
    "ax.set_title('Gráfico de QQ Plot - Residuos Modelo Reducido')\n",
    "plt.show()"
   ]
  },
  {
   "cell_type": "markdown",
   "metadata": {},
   "source": [
    "- Los puntos en los extremos, tanto en el lado izquierdo como derecho, se desvían significativamente de la línea roja.\n",
    "- Esta desviación es particularmente notable en los cuantiles más altos, donde los residuos son mucho más grandes de lo que se esperaría bajo una distribución normal.\n",
    "- Estadístico: 0.887, bastante menor que 1, indicando que la distribución de los residuos no sigue la forma de una distribución normal.\n",
    "- P-valor: extremadamente pequeño (3.73e-16), mucho menor que cualquier umbral convencional como 0.05, rechazando fuertemente la hipótesis nula de normalidad.\n",
    "- Ambas pruebas, junto con la visualización del QQ Plot, indican que los residuos del modelo 1 no están distribuidos normalmente. Esta falta de normalidad puede deberse a varios factores, como la presencia de atípicos, una especificación incorrecta del modelo, o variables explicativas que no capturan completamente la dinámica de la variable dependiente.\n",
    "\n"
   ]
  },
  {
   "cell_type": "markdown",
   "metadata": {},
   "source": [
    "#### Prueba de media cero"
   ]
  },
  {
   "cell_type": "code",
   "execution_count": 352,
   "metadata": {},
   "outputs": [
    {
     "name": "stdout",
     "output_type": "stream",
     "text": [
      "Estadístico t: 8.744724475259841e-15\n",
      "P-Value: 0.999999999999993\n"
     ]
    }
   ],
   "source": [
    "\n",
    "t_statistic, p_valor = stats.ttest_1samp(residuals, 0)\n",
    "\n",
    "\n",
    "print(\"Estadístico t:\", t_statistic)\n",
    "print(\"P-Value:\", p_valor)"
   ]
  },
  {
   "cell_type": "markdown",
   "metadata": {},
   "source": [
    "Los resultados indican que los residuos deL modelo 1 satisfacen el supuesto de tener una media de cero de manera adecuada. Este es un indicativo positivo que sugiere que el modelo no tiene sesgo sistemático en las predicciones que genera."
   ]
  },
  {
   "cell_type": "markdown",
   "metadata": {},
   "source": [
    "#### Homocedasticidad"
   ]
  },
  {
   "cell_type": "code",
   "execution_count": 353,
   "metadata": {},
   "outputs": [
    {
     "data": {
      "text/plain": [
       "220   -6.374384\n",
       "71    -0.200929\n",
       "240   -5.616937\n",
       "6     -0.370732\n",
       "417    4.003765\n",
       "         ...   \n",
       "323   -0.510318\n",
       "192    2.644900\n",
       "117   -4.388670\n",
       "47    -1.846922\n",
       "172    1.051573\n",
       "Name: MEDV, Length: 383, dtype: float64"
      ]
     },
     "execution_count": 353,
     "metadata": {},
     "output_type": "execute_result"
    }
   ],
   "source": [
    "residuals"
   ]
  },
  {
   "cell_type": "code",
   "execution_count": 354,
   "metadata": {},
   "outputs": [
    {
     "name": "stdout",
     "output_type": "stream",
     "text": [
      "Breusch-Pagan test:\n",
      "Lagrange Multiplier statistic: 50.49154717975578\n",
      "p-value: 2.454695897630938e-06\n"
     ]
    }
   ],
   "source": [
    "X_train_clean_scaled = scaler.fit_transform(X_train_clean)\n",
    "X_train_clean_scaled = pd.DataFrame(X_train_clean_scaled, columns=X_train_clean.columns)\n",
    "\n",
    "# Añadir constante a la matriz de predictores limpios y estandarizados\n",
    "X_incl_const = sm.add_constant(X_train_clean_scaled)\n",
    "\n",
    "# Ahora realizar la prueba de Breusch-Pagan\n",
    "bp_test = sm.stats.diagnostic.het_breuschpagan(residuals, X_incl_const)\n",
    "print(\"Breusch-Pagan test:\")\n",
    "print(\"Lagrange Multiplier statistic:\", bp_test[0])\n",
    "print(\"p-value:\", bp_test[1])"
   ]
  },
  {
   "cell_type": "code",
   "execution_count": 355,
   "metadata": {},
   "outputs": [
    {
     "data": {
      "text/plain": [
       "0     -6.521502\n",
       "2      3.525466\n",
       "3      4.088816\n",
       "4      7.315551\n",
       "5      3.199688\n",
       "         ...   \n",
       "500   -3.817587\n",
       "501   -1.544832\n",
       "502   -1.567982\n",
       "503   -3.807359\n",
       "504   -4.210348\n",
       "Name: MEDV, Length: 383, dtype: float64"
      ]
     },
     "execution_count": 355,
     "metadata": {},
     "output_type": "execute_result"
    }
   ],
   "source": [
    "residuals_sorted = residuals.sort_index()\n",
    "residuals_sorted"
   ]
  },
  {
   "cell_type": "code",
   "execution_count": 356,
   "metadata": {},
   "outputs": [
    {
     "data": {
      "image/png": "[encoded data removed]",
      "text/plain": [
       "<Figure size 1500x500 with 1 Axes>"
      ]
     },
     "metadata": {},
     "output_type": "display_data"
    }
   ],
   "source": [
    "plt.figure(figsize=(15,5))\n",
    "plt.plot(residuals_sorted, '.-', color =\"darkred\", linewidth=0.3)\n",
    "plt.show()"
   ]
  },
  {
   "cell_type": "markdown",
   "metadata": {},
   "source": [
    "- Estadístico de Lagrange Multiplier: 50.4915\n",
    "\t- Es relativamente alto, lo cual sugiere que las variaciones en las predicciones del modelo 1 están asociadas con variaciones en la magnitud de los errores (residuos), es decir, la varianza de los residuos no es constante.\n",
    "- Existe heterocedasticidad en los residuos del modelo 1."
   ]
  },
  {
   "cell_type": "markdown",
   "metadata": {},
   "source": [
    "## Modelo 2"
   ]
  },
  {
   "cell_type": "code",
   "execution_count": 357,
   "metadata": {},
   "outputs": [],
   "source": [
    "n = X_train_scaled.shape[0]\n",
    "p = X_train_scaled.shape[1] - 1\n",
    "k = int((n + p + 1) / 2)"
   ]
  },
  {
   "cell_type": "code",
   "execution_count": 362,
   "metadata": {},
   "outputs": [],
   "source": [
    "# Seleccionar las observaciones con las distancias más pequeñas\n",
    "X_train_clean = X_train_scaled.nsmallest(k, 'mahalanobis')\n",
    "y_train_clean = y_train.loc[X_train_clean.index]\n",
    "X_train_clean.drop('mahalanobis', axis=1, inplace=True)"
   ]
  },
  {
   "cell_type": "code",
   "execution_count": 363,
   "metadata": {},
   "outputs": [
    {
     "name": "stdout",
     "output_type": "stream",
     "text": [
      "Mejor l1_ratio: 0.9\n",
      "Mejor alpha: 0.0001\n"
     ]
    }
   ],
   "source": [
    "l1_ratios = np.linspace(0.1, 0.9, 9)\n",
    "alphas = np.logspace(-4, 0, 10)\n",
    "\n",
    "# Crear y entrenar el modelo ElasticNetCV\n",
    "elastic_net_cv = ElasticNetCV(l1_ratio=l1_ratios, alphas=alphas, cv=5, random_state=0)\n",
    "elastic_net_cv.fit(X_train_clean, y_train_clean)\n",
    "\n",
    "# Mejores parámetros encontrados\n",
    "print(\"Mejor l1_ratio:\", elastic_net_cv.l1_ratio_)\n",
    "print(\"Mejor alpha:\", elastic_net_cv.alpha_)"
   ]
  },
  {
   "cell_type": "code",
   "execution_count": 364,
   "metadata": {},
   "outputs": [
    {
     "name": "stdout",
     "output_type": "stream",
     "text": [
      "RMSE en el conjunto de prueba: 1968.5469934562582\n"
     ]
    },
    {
     "name": "stderr",
     "output_type": "stream",
     "text": [
      "/Users/danielmartinezvillegas/anaconda3/envs/personal/lib/python3.8/site-packages/sklearn/base.py:464: UserWarning: X does not have valid feature names, but ElasticNetCV was fitted with feature names\n",
      "  warnings.warn(\n"
     ]
    }
   ],
   "source": [
    "X_test_scaled = scaler.transform(X_test)\n",
    "y_pred = elastic_net_cv.predict(X_test_scaled)\n",
    "\n",
    "# Calcular el RMSE para evaluar la precisión del modelo\n",
    "rmse = mean_squared_error(y_test, y_pred, squared=False)\n",
    "print(\"RMSE en el conjunto de prueba:\", rmse)\n"
   ]
  },
  {
   "cell_type": "markdown",
   "metadata": {},
   "source": [
    "#### Ecuación Modelo 2"
   ]
  },
  {
   "cell_type": "code",
   "execution_count": 366,
   "metadata": {},
   "outputs": [
    {
     "name": "stdout",
     "output_type": "stream",
     "text": [
      "Ecuación de regresión:\n",
      "MEDV = 21.0545 + (-2.5097)*CRIM + (-1.1046)*ZN + (0.1574)*INDUS + (-0.0000)*CHAS + (-2.8625)*NOX + (4.0804)*RM + (-1.4765)*AGE + (-3.3920)*DIS + (3.3828)*RAD + (-3.4802)*TAX + (-1.4525)*PTRATIO + (-0.7409)*B + (-1.5369)*LSTAT\n"
     ]
    }
   ],
   "source": [
    "# Coeficientes del modelo\n",
    "coefficients = elastic_net_cv.coef_\n",
    "\n",
    "# Intercepción\n",
    "intercept = elastic_net_cv.intercept_\n",
    "\n",
    "# Nombres de las columnas (variables)\n",
    "features = X_train.columns\n",
    "\n",
    "# Construir la ecuación en formato de texto\n",
    "regression_eq = f\"MEDV = {intercept:.4f}\"\n",
    "for coef, feature in zip(coefficients, features):\n",
    "    regression_eq += f\" + ({coef:.4f})*{feature}\"\n",
    "\n",
    "print(\"Ecuación de regresión:\")\n",
    "print(regression_eq)"
   ]
  },
  {
   "cell_type": "code",
   "execution_count": 365,
   "metadata": {},
   "outputs": [
    {
     "data": {
      "text/plain": [
       "309   -2.845551\n",
       "312   -3.384617\n",
       "318   -1.393379\n",
       "313   -3.582518\n",
       "500   -3.817587\n",
       "         ...   \n",
       "458   -1.923526\n",
       "473    4.952109\n",
       "165   -0.123496\n",
       "167    0.802213\n",
       "408    4.920649\n",
       "Name: MEDV, Length: 209, dtype: float64"
      ]
     },
     "execution_count": 365,
     "metadata": {},
     "output_type": "execute_result"
    }
   ],
   "source": [
    "y_pred = results.predict(X_train_clean)\n",
    "residuals = y_train_clean - y_pred\n",
    "residuals"
   ]
  }
 ],
 "metadata": {
  "kernelspec": {
   "display_name": "personal",
   "language": "python",
   "name": "python3"
  },
  "language_info": {
   "codemirror_mode": {
    "name": "ipython",
    "version": 3
   },
   "file_extension": ".py",
   "mimetype": "text/x-python",
   "name": "python",
   "nbconvert_exporter": "python",
   "pygments_lexer": "ipython3",
   "version": "3.8.15"
  }
 },
 "nbformat": 4,
 "nbformat_minor": 2
}
