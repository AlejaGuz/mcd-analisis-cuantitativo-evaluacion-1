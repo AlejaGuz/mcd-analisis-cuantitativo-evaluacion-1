{
 "cells": [
  {
   "cell_type": "code",
   "execution_count": 46,
   "metadata": {},
   "outputs": [],
   "source": [
    "import pandas as pd\n",
    "from sklearn.model_selection import train_test_split\n",
    "from sklearn.preprocessing import StandardScaler\n",
    "from scipy.stats import spearmanr\n",
    "from sklearn.linear_model import ElasticNetCV\n",
    "from sklearn.metrics import mean_squared_error\n",
    "\n",
    "import numpy as np"
   ]
  },
  {
   "cell_type": "markdown",
   "metadata": {},
   "source": [
    "## 1.1"
   ]
  },
  {
   "cell_type": "markdown",
   "metadata": {},
   "source": [
    "### Cargar el dataset"
   ]
  },
  {
   "cell_type": "code",
   "execution_count": 47,
   "metadata": {},
   "outputs": [
    {
     "data": {
      "text/html": [
       "<div>\n",
       "<style scoped>\n",
       "    .dataframe tbody tr th:only-of-type {\n",
       "        vertical-align: middle;\n",
       "    }\n",
       "\n",
       "    .dataframe tbody tr th {\n",
       "        vertical-align: top;\n",
       "    }\n",
       "\n",
       "    .dataframe thead th {\n",
       "        text-align: right;\n",
       "    }\n",
       "</style>\n",
       "<table border=\"1\" class=\"dataframe\">\n",
       "  <thead>\n",
       "    <tr style=\"text-align: right;\">\n",
       "      <th></th>\n",
       "      <th>CRIM</th>\n",
       "      <th>ZN</th>\n",
       "      <th>INDUS</th>\n",
       "      <th>CHAS</th>\n",
       "      <th>NOX</th>\n",
       "      <th>RM</th>\n",
       "      <th>AGE</th>\n",
       "      <th>DIS</th>\n",
       "      <th>RAD</th>\n",
       "      <th>TAX</th>\n",
       "      <th>PTRATIO</th>\n",
       "      <th>B</th>\n",
       "      <th>LSTAT</th>\n",
       "      <th>MEDV</th>\n",
       "    </tr>\n",
       "  </thead>\n",
       "  <tbody>\n",
       "    <tr>\n",
       "      <th>0</th>\n",
       "      <td>0.00632</td>\n",
       "      <td>18.0</td>\n",
       "      <td>2.31</td>\n",
       "      <td>0</td>\n",
       "      <td>0.538</td>\n",
       "      <td>6.575</td>\n",
       "      <td>65.2</td>\n",
       "      <td>4.0900</td>\n",
       "      <td>1</td>\n",
       "      <td>296.0</td>\n",
       "      <td>15.3</td>\n",
       "      <td>396.90</td>\n",
       "      <td>4.98</td>\n",
       "      <td>24.0</td>\n",
       "    </tr>\n",
       "    <tr>\n",
       "      <th>1</th>\n",
       "      <td>0.02731</td>\n",
       "      <td>0.0</td>\n",
       "      <td>7.07</td>\n",
       "      <td>0</td>\n",
       "      <td>0.469</td>\n",
       "      <td>6.421</td>\n",
       "      <td>78.9</td>\n",
       "      <td>4.9671</td>\n",
       "      <td>2</td>\n",
       "      <td>242.0</td>\n",
       "      <td>17.8</td>\n",
       "      <td>396.90</td>\n",
       "      <td>9.14</td>\n",
       "      <td>21.6</td>\n",
       "    </tr>\n",
       "    <tr>\n",
       "      <th>2</th>\n",
       "      <td>0.02729</td>\n",
       "      <td>0.0</td>\n",
       "      <td>7.07</td>\n",
       "      <td>0</td>\n",
       "      <td>0.469</td>\n",
       "      <td>7.185</td>\n",
       "      <td>61.1</td>\n",
       "      <td>4.9671</td>\n",
       "      <td>2</td>\n",
       "      <td>242.0</td>\n",
       "      <td>17.8</td>\n",
       "      <td>392.83</td>\n",
       "      <td>4.03</td>\n",
       "      <td>34.7</td>\n",
       "    </tr>\n",
       "    <tr>\n",
       "      <th>3</th>\n",
       "      <td>0.03237</td>\n",
       "      <td>0.0</td>\n",
       "      <td>2.18</td>\n",
       "      <td>0</td>\n",
       "      <td>0.458</td>\n",
       "      <td>6.998</td>\n",
       "      <td>45.8</td>\n",
       "      <td>6.0622</td>\n",
       "      <td>3</td>\n",
       "      <td>222.0</td>\n",
       "      <td>18.7</td>\n",
       "      <td>394.63</td>\n",
       "      <td>2.94</td>\n",
       "      <td>33.4</td>\n",
       "    </tr>\n",
       "    <tr>\n",
       "      <th>4</th>\n",
       "      <td>0.06905</td>\n",
       "      <td>0.0</td>\n",
       "      <td>2.18</td>\n",
       "      <td>0</td>\n",
       "      <td>0.458</td>\n",
       "      <td>7.147</td>\n",
       "      <td>54.2</td>\n",
       "      <td>6.0622</td>\n",
       "      <td>3</td>\n",
       "      <td>222.0</td>\n",
       "      <td>18.7</td>\n",
       "      <td>396.90</td>\n",
       "      <td>5.33</td>\n",
       "      <td>36.2</td>\n",
       "    </tr>\n",
       "  </tbody>\n",
       "</table>\n",
       "</div>"
      ],
      "text/plain": [
       "      CRIM    ZN  INDUS  CHAS    NOX     RM   AGE     DIS  RAD    TAX  \\\n",
       "0  0.00632  18.0   2.31     0  0.538  6.575  65.2  4.0900    1  296.0   \n",
       "1  0.02731   0.0   7.07     0  0.469  6.421  78.9  4.9671    2  242.0   \n",
       "2  0.02729   0.0   7.07     0  0.469  7.185  61.1  4.9671    2  242.0   \n",
       "3  0.03237   0.0   2.18     0  0.458  6.998  45.8  6.0622    3  222.0   \n",
       "4  0.06905   0.0   2.18     0  0.458  7.147  54.2  6.0622    3  222.0   \n",
       "\n",
       "   PTRATIO       B  LSTAT  MEDV  \n",
       "0     15.3  396.90   4.98  24.0  \n",
       "1     17.8  396.90   9.14  21.6  \n",
       "2     17.8  392.83   4.03  34.7  \n",
       "3     18.7  394.63   2.94  33.4  \n",
       "4     18.7  396.90   5.33  36.2  "
      ]
     },
     "execution_count": 47,
     "metadata": {},
     "output_type": "execute_result"
    }
   ],
   "source": [
    "url = \"https://archive.ics.uci.edu/ml/machine-learning-databases/housing/housing.data\"\n",
    "column_names = ['CRIM', 'ZN', 'INDUS', 'CHAS', 'NOX', 'RM', 'AGE', 'DIS', 'RAD', 'TAX', 'PTRATIO', 'B', 'LSTAT', 'MEDV']\n",
    "df = pd.read_csv(url, header=None, delimiter=r\"\\s+\", names=column_names)\n",
    "\n",
    "# Muestra las primeras filas del DataFrames\n",
    "df.head()"
   ]
  },
  {
   "cell_type": "markdown",
   "metadata": {},
   "source": [
    "### Dividir el dataset"
   ]
  },
  {
   "cell_type": "code",
   "execution_count": 48,
   "metadata": {},
   "outputs": [],
   "source": [
    "# split the df into 80 20 using train_test_split\n",
    "X = df.drop('MEDV', axis=1)\n",
    "y = df['MEDV']\n",
    "X_train, X_test, y_train, y_test = train_test_split(X, y, test_size=0.2, random_state=0)"
   ]
  },
  {
   "cell_type": "markdown",
   "metadata": {},
   "source": [
    "### Modelo 1"
   ]
  },
  {
   "cell_type": "code",
   "execution_count": 49,
   "metadata": {},
   "outputs": [],
   "source": [
    "# Estandarizar las variables\n",
    "scaler = StandardScaler()\n",
    "X_train_scaled = scaler.fit_transform(X_train)\n",
    "\n",
    "# Convertir a DataFrame\n",
    "X_train_scaled = pd.DataFrame(X_train_scaled, columns=X_train.columns)"
   ]
  },
  {
   "cell_type": "markdown",
   "metadata": {},
   "source": [
    "### Distancia de Mahalanobis\n",
    "Usando el vector de medianas y la matriz de correlación de Spearman para calcular la Distancia de Mahalanobis."
   ]
  },
  {
   "cell_type": "code",
   "execution_count": 50,
   "metadata": {},
   "outputs": [],
   "source": [
    "def mahalanobis_distance(x, medians, inv_cov_matrix):\n",
    "    delta = x - medians\n",
    "    return np.sqrt(np.dot(np.dot(delta, inv_cov_matrix), delta))\n"
   ]
  },
  {
   "cell_type": "code",
   "execution_count": 51,
   "metadata": {},
   "outputs": [
    {
     "data": {
      "text/html": [
       "<div>\n",
       "<style scoped>\n",
       "    .dataframe tbody tr th:only-of-type {\n",
       "        vertical-align: middle;\n",
       "    }\n",
       "\n",
       "    .dataframe tbody tr th {\n",
       "        vertical-align: top;\n",
       "    }\n",
       "\n",
       "    .dataframe thead th {\n",
       "        text-align: right;\n",
       "    }\n",
       "</style>\n",
       "<table border=\"1\" class=\"dataframe\">\n",
       "  <thead>\n",
       "    <tr style=\"text-align: right;\">\n",
       "      <th></th>\n",
       "      <th>CRIM</th>\n",
       "      <th>ZN</th>\n",
       "      <th>INDUS</th>\n",
       "      <th>CHAS</th>\n",
       "      <th>NOX</th>\n",
       "      <th>RM</th>\n",
       "      <th>AGE</th>\n",
       "      <th>DIS</th>\n",
       "      <th>RAD</th>\n",
       "      <th>TAX</th>\n",
       "      <th>PTRATIO</th>\n",
       "      <th>B</th>\n",
       "      <th>LSTAT</th>\n",
       "      <th>mahalanobis</th>\n",
       "    </tr>\n",
       "  </thead>\n",
       "  <tbody>\n",
       "    <tr>\n",
       "      <th>0</th>\n",
       "      <td>-0.372574</td>\n",
       "      <td>-0.499608</td>\n",
       "      <td>-0.704925</td>\n",
       "      <td>3.664502</td>\n",
       "      <td>-0.424879</td>\n",
       "      <td>0.935678</td>\n",
       "      <td>0.693669</td>\n",
       "      <td>-0.437218</td>\n",
       "      <td>-0.162242</td>\n",
       "      <td>-0.561656</td>\n",
       "      <td>-0.484638</td>\n",
       "      <td>0.371691</td>\n",
       "      <td>-0.411000</td>\n",
       "      <td>4.359109</td>\n",
       "    </tr>\n",
       "    <tr>\n",
       "      <th>1</th>\n",
       "      <td>-0.397099</td>\n",
       "      <td>-0.499608</td>\n",
       "      <td>-0.044878</td>\n",
       "      <td>-0.272888</td>\n",
       "      <td>-1.241859</td>\n",
       "      <td>-0.491181</td>\n",
       "      <td>-1.835528</td>\n",
       "      <td>0.730055</td>\n",
       "      <td>-0.624648</td>\n",
       "      <td>-0.573376</td>\n",
       "      <td>0.336491</td>\n",
       "      <td>0.205012</td>\n",
       "      <td>-0.387681</td>\n",
       "      <td>3.694088</td>\n",
       "    </tr>\n",
       "    <tr>\n",
       "      <th>2</th>\n",
       "      <td>-0.402693</td>\n",
       "      <td>0.771168</td>\n",
       "      <td>-0.886760</td>\n",
       "      <td>-0.272888</td>\n",
       "      <td>-1.111490</td>\n",
       "      <td>0.857849</td>\n",
       "      <td>-0.524621</td>\n",
       "      <td>1.234769</td>\n",
       "      <td>-0.393445</td>\n",
       "      <td>-0.602677</td>\n",
       "      <td>-0.849584</td>\n",
       "      <td>0.366609</td>\n",
       "      <td>-0.181919</td>\n",
       "      <td>3.285733</td>\n",
       "    </tr>\n",
       "    <tr>\n",
       "      <th>3</th>\n",
       "      <td>-0.405769</td>\n",
       "      <td>0.029882</td>\n",
       "      <td>-0.465819</td>\n",
       "      <td>-0.272888</td>\n",
       "      <td>-0.277127</td>\n",
       "      <td>-0.417676</td>\n",
       "      <td>-0.086464</td>\n",
       "      <td>0.861527</td>\n",
       "      <td>-0.509046</td>\n",
       "      <td>-0.538216</td>\n",
       "      <td>-1.488240</td>\n",
       "      <td>0.415732</td>\n",
       "      <td>-0.037886</td>\n",
       "      <td>3.422002</td>\n",
       "    </tr>\n",
       "    <tr>\n",
       "      <th>4</th>\n",
       "      <td>2.774932</td>\n",
       "      <td>-0.499608</td>\n",
       "      <td>0.998884</td>\n",
       "      <td>-0.272888</td>\n",
       "      <td>1.070021</td>\n",
       "      <td>-1.438097</td>\n",
       "      <td>0.715042</td>\n",
       "      <td>-1.021528</td>\n",
       "      <td>1.687378</td>\n",
       "      <td>1.542121</td>\n",
       "      <td>0.792674</td>\n",
       "      <td>-2.613393</td>\n",
       "      <td>1.911362</td>\n",
       "      <td>5.191490</td>\n",
       "    </tr>\n",
       "  </tbody>\n",
       "</table>\n",
       "</div>"
      ],
      "text/plain": [
       "       CRIM        ZN     INDUS      CHAS       NOX        RM       AGE  \\\n",
       "0 -0.372574 -0.499608 -0.704925  3.664502 -0.424879  0.935678  0.693669   \n",
       "1 -0.397099 -0.499608 -0.044878 -0.272888 -1.241859 -0.491181 -1.835528   \n",
       "2 -0.402693  0.771168 -0.886760 -0.272888 -1.111490  0.857849 -0.524621   \n",
       "3 -0.405769  0.029882 -0.465819 -0.272888 -0.277127 -0.417676 -0.086464   \n",
       "4  2.774932 -0.499608  0.998884 -0.272888  1.070021 -1.438097  0.715042   \n",
       "\n",
       "        DIS       RAD       TAX   PTRATIO         B     LSTAT  mahalanobis  \n",
       "0 -0.437218 -0.162242 -0.561656 -0.484638  0.371691 -0.411000     4.359109  \n",
       "1  0.730055 -0.624648 -0.573376  0.336491  0.205012 -0.387681     3.694088  \n",
       "2  1.234769 -0.393445 -0.602677 -0.849584  0.366609 -0.181919     3.285733  \n",
       "3  0.861527 -0.509046 -0.538216 -1.488240  0.415732 -0.037886     3.422002  \n",
       "4 -1.021528  1.687378  1.542121  0.792674 -2.613393  1.911362     5.191490  "
      ]
     },
     "execution_count": 51,
     "metadata": {},
     "output_type": "execute_result"
    }
   ],
   "source": [
    "# matriz de correlación de Spearman\n",
    "spearman_corr = spearmanr(X_train_scaled).correlation\n",
    "\n",
    "# Invertir la matriz de correlación para usar en la fórmula de la distancia de Mahalanobis\n",
    "inv_cov_matrix = np.linalg.inv(spearman_corr)\n",
    "\n",
    "# Calcular el vector de medianas\n",
    "medians = X_train_scaled.median().values\n",
    "\n",
    "# Aplicar la función mahalanobis_distance a cada fila del DataFrame\n",
    "X_train_scaled['mahalanobis'] = X_train_scaled.apply(mahalanobis_distance, axis=1, args=(medians, inv_cov_matrix))\n",
    "\n",
    "X_train_scaled.head()\n"
   ]
  },
  {
   "cell_type": "code",
   "execution_count": 52,
   "metadata": {},
   "outputs": [
    {
     "data": {
      "text/plain": [
       "(404,)"
      ]
     },
     "execution_count": 52,
     "metadata": {},
     "output_type": "execute_result"
    }
   ],
   "source": [
    "X_train_scaled.shape\n",
    "y_train.shape"
   ]
  },
  {
   "cell_type": "code",
   "execution_count": 53,
   "metadata": {},
   "outputs": [],
   "source": [
    "# Filtrar atípicos\n",
    "threshold = np.percentile(X_train_scaled['mahalanobis'], 95)\n",
    "X_train_clean = X_train_scaled[X_train_scaled['mahalanobis'] < threshold]\n",
    "\n",
    "# Filtrar los valores de y_train correspondientes a los outliers\n",
    "outliers = X_train_scaled[X_train_scaled['mahalanobis'] >= threshold].index\n",
    "all_positions = set(range(len(y_train)))\n",
    "positions_to_keep = list(all_positions - set(outliers))\n",
    "y_train_clean = y_train.iloc[positions_to_keep]"
   ]
  },
  {
   "cell_type": "code",
   "execution_count": 54,
   "metadata": {},
   "outputs": [
    {
     "data": {
      "text/html": [
       "<div>\n",
       "<style scoped>\n",
       "    .dataframe tbody tr th:only-of-type {\n",
       "        vertical-align: middle;\n",
       "    }\n",
       "\n",
       "    .dataframe tbody tr th {\n",
       "        vertical-align: top;\n",
       "    }\n",
       "\n",
       "    .dataframe thead th {\n",
       "        text-align: right;\n",
       "    }\n",
       "</style>\n",
       "<table border=\"1\" class=\"dataframe\">\n",
       "  <thead>\n",
       "    <tr style=\"text-align: right;\">\n",
       "      <th></th>\n",
       "      <th>CRIM</th>\n",
       "      <th>ZN</th>\n",
       "      <th>INDUS</th>\n",
       "      <th>CHAS</th>\n",
       "      <th>NOX</th>\n",
       "      <th>RM</th>\n",
       "      <th>AGE</th>\n",
       "      <th>DIS</th>\n",
       "      <th>RAD</th>\n",
       "      <th>TAX</th>\n",
       "      <th>PTRATIO</th>\n",
       "      <th>B</th>\n",
       "      <th>LSTAT</th>\n",
       "    </tr>\n",
       "  </thead>\n",
       "  <tbody>\n",
       "    <tr>\n",
       "      <th>0</th>\n",
       "      <td>-0.372574</td>\n",
       "      <td>-0.499608</td>\n",
       "      <td>-0.704925</td>\n",
       "      <td>3.664502</td>\n",
       "      <td>-0.424879</td>\n",
       "      <td>0.935678</td>\n",
       "      <td>0.693669</td>\n",
       "      <td>-0.437218</td>\n",
       "      <td>-0.162242</td>\n",
       "      <td>-0.561656</td>\n",
       "      <td>-0.484638</td>\n",
       "      <td>0.371691</td>\n",
       "      <td>-0.411000</td>\n",
       "    </tr>\n",
       "    <tr>\n",
       "      <th>1</th>\n",
       "      <td>-0.397099</td>\n",
       "      <td>-0.499608</td>\n",
       "      <td>-0.044878</td>\n",
       "      <td>-0.272888</td>\n",
       "      <td>-1.241859</td>\n",
       "      <td>-0.491181</td>\n",
       "      <td>-1.835528</td>\n",
       "      <td>0.730055</td>\n",
       "      <td>-0.624648</td>\n",
       "      <td>-0.573376</td>\n",
       "      <td>0.336491</td>\n",
       "      <td>0.205012</td>\n",
       "      <td>-0.387681</td>\n",
       "    </tr>\n",
       "    <tr>\n",
       "      <th>2</th>\n",
       "      <td>-0.402693</td>\n",
       "      <td>0.771168</td>\n",
       "      <td>-0.886760</td>\n",
       "      <td>-0.272888</td>\n",
       "      <td>-1.111490</td>\n",
       "      <td>0.857849</td>\n",
       "      <td>-0.524621</td>\n",
       "      <td>1.234769</td>\n",
       "      <td>-0.393445</td>\n",
       "      <td>-0.602677</td>\n",
       "      <td>-0.849584</td>\n",
       "      <td>0.366609</td>\n",
       "      <td>-0.181919</td>\n",
       "    </tr>\n",
       "    <tr>\n",
       "      <th>3</th>\n",
       "      <td>-0.405769</td>\n",
       "      <td>0.029882</td>\n",
       "      <td>-0.465819</td>\n",
       "      <td>-0.272888</td>\n",
       "      <td>-0.277127</td>\n",
       "      <td>-0.417676</td>\n",
       "      <td>-0.086464</td>\n",
       "      <td>0.861527</td>\n",
       "      <td>-0.509046</td>\n",
       "      <td>-0.538216</td>\n",
       "      <td>-1.488240</td>\n",
       "      <td>0.415732</td>\n",
       "      <td>-0.037886</td>\n",
       "    </tr>\n",
       "    <tr>\n",
       "      <th>4</th>\n",
       "      <td>2.774932</td>\n",
       "      <td>-0.499608</td>\n",
       "      <td>0.998884</td>\n",
       "      <td>-0.272888</td>\n",
       "      <td>1.070021</td>\n",
       "      <td>-1.438097</td>\n",
       "      <td>0.715042</td>\n",
       "      <td>-1.021528</td>\n",
       "      <td>1.687378</td>\n",
       "      <td>1.542121</td>\n",
       "      <td>0.792674</td>\n",
       "      <td>-2.613393</td>\n",
       "      <td>1.911362</td>\n",
       "    </tr>\n",
       "  </tbody>\n",
       "</table>\n",
       "</div>"
      ],
      "text/plain": [
       "       CRIM        ZN     INDUS      CHAS       NOX        RM       AGE  \\\n",
       "0 -0.372574 -0.499608 -0.704925  3.664502 -0.424879  0.935678  0.693669   \n",
       "1 -0.397099 -0.499608 -0.044878 -0.272888 -1.241859 -0.491181 -1.835528   \n",
       "2 -0.402693  0.771168 -0.886760 -0.272888 -1.111490  0.857849 -0.524621   \n",
       "3 -0.405769  0.029882 -0.465819 -0.272888 -0.277127 -0.417676 -0.086464   \n",
       "4  2.774932 -0.499608  0.998884 -0.272888  1.070021 -1.438097  0.715042   \n",
       "\n",
       "        DIS       RAD       TAX   PTRATIO         B     LSTAT  \n",
       "0 -0.437218 -0.162242 -0.561656 -0.484638  0.371691 -0.411000  \n",
       "1  0.730055 -0.624648 -0.573376  0.336491  0.205012 -0.387681  \n",
       "2  1.234769 -0.393445 -0.602677 -0.849584  0.366609 -0.181919  \n",
       "3  0.861527 -0.509046 -0.538216 -1.488240  0.415732 -0.037886  \n",
       "4 -1.021528  1.687378  1.542121  0.792674 -2.613393  1.911362  "
      ]
     },
     "execution_count": 54,
     "metadata": {},
     "output_type": "execute_result"
    }
   ],
   "source": [
    "X_train_clean = X_train_clean.drop('mahalanobis', axis=1)\n",
    "X_train_clean.head()"
   ]
  },
  {
   "cell_type": "markdown",
   "metadata": {},
   "source": [
    "### Modelo Elastic-Net"
   ]
  },
  {
   "cell_type": "code",
   "execution_count": 55,
   "metadata": {},
   "outputs": [],
   "source": [
    "# Ranggos de hiperparámetros\n",
    "l1_ratios = np.linspace(0.1, 0.9, 9)\n",
    "alphas = np.logspace(-4, 0, 10)"
   ]
  },
  {
   "cell_type": "code",
   "execution_count": 56,
   "metadata": {},
   "outputs": [
    {
     "data": {
      "text/html": [
       "<style>#sk-container-id-6 {color: black;}#sk-container-id-6 pre{padding: 0;}#sk-container-id-6 div.sk-toggleable {background-color: white;}#sk-container-id-6 label.sk-toggleable__label {cursor: pointer;display: block;width: 100%;margin-bottom: 0;padding: 0.3em;box-sizing: border-box;text-align: center;}#sk-container-id-6 label.sk-toggleable__label-arrow:before {content: \"▸\";float: left;margin-right: 0.25em;color: #696969;}#sk-container-id-6 label.sk-toggleable__label-arrow:hover:before {color: black;}#sk-container-id-6 div.sk-estimator:hover label.sk-toggleable__label-arrow:before {color: black;}#sk-container-id-6 div.sk-toggleable__content {max-height: 0;max-width: 0;overflow: hidden;text-align: left;background-color: #f0f8ff;}#sk-container-id-6 div.sk-toggleable__content pre {margin: 0.2em;color: black;border-radius: 0.25em;background-color: #f0f8ff;}#sk-container-id-6 input.sk-toggleable__control:checked~div.sk-toggleable__content {max-height: 200px;max-width: 100%;overflow: auto;}#sk-container-id-6 input.sk-toggleable__control:checked~label.sk-toggleable__label-arrow:before {content: \"▾\";}#sk-container-id-6 div.sk-estimator input.sk-toggleable__control:checked~label.sk-toggleable__label {background-color: #d4ebff;}#sk-container-id-6 div.sk-label input.sk-toggleable__control:checked~label.sk-toggleable__label {background-color: #d4ebff;}#sk-container-id-6 input.sk-hidden--visually {border: 0;clip: rect(1px 1px 1px 1px);clip: rect(1px, 1px, 1px, 1px);height: 1px;margin: -1px;overflow: hidden;padding: 0;position: absolute;width: 1px;}#sk-container-id-6 div.sk-estimator {font-family: monospace;background-color: #f0f8ff;border: 1px dotted black;border-radius: 0.25em;box-sizing: border-box;margin-bottom: 0.5em;}#sk-container-id-6 div.sk-estimator:hover {background-color: #d4ebff;}#sk-container-id-6 div.sk-parallel-item::after {content: \"\";width: 100%;border-bottom: 1px solid gray;flex-grow: 1;}#sk-container-id-6 div.sk-label:hover label.sk-toggleable__label {background-color: #d4ebff;}#sk-container-id-6 div.sk-serial::before {content: \"\";position: absolute;border-left: 1px solid gray;box-sizing: border-box;top: 0;bottom: 0;left: 50%;z-index: 0;}#sk-container-id-6 div.sk-serial {display: flex;flex-direction: column;align-items: center;background-color: white;padding-right: 0.2em;padding-left: 0.2em;position: relative;}#sk-container-id-6 div.sk-item {position: relative;z-index: 1;}#sk-container-id-6 div.sk-parallel {display: flex;align-items: stretch;justify-content: center;background-color: white;position: relative;}#sk-container-id-6 div.sk-item::before, #sk-container-id-6 div.sk-parallel-item::before {content: \"\";position: absolute;border-left: 1px solid gray;box-sizing: border-box;top: 0;bottom: 0;left: 50%;z-index: -1;}#sk-container-id-6 div.sk-parallel-item {display: flex;flex-direction: column;z-index: 1;position: relative;background-color: white;}#sk-container-id-6 div.sk-parallel-item:first-child::after {align-self: flex-end;width: 50%;}#sk-container-id-6 div.sk-parallel-item:last-child::after {align-self: flex-start;width: 50%;}#sk-container-id-6 div.sk-parallel-item:only-child::after {width: 0;}#sk-container-id-6 div.sk-dashed-wrapped {border: 1px dashed gray;margin: 0 0.4em 0.5em 0.4em;box-sizing: border-box;padding-bottom: 0.4em;background-color: white;}#sk-container-id-6 div.sk-label label {font-family: monospace;font-weight: bold;display: inline-block;line-height: 1.2em;}#sk-container-id-6 div.sk-label-container {text-align: center;}#sk-container-id-6 div.sk-container {/* jupyter's `normalize.less` sets `[hidden] { display: none; }` but bootstrap.min.css set `[hidden] { display: none !important; }` so we also need the `!important` here to be able to override the default hidden behavior on the sphinx rendered scikit-learn.org. See: https://github.com/scikit-learn/scikit-learn/issues/21755 */display: inline-block !important;position: relative;}#sk-container-id-6 div.sk-text-repr-fallback {display: none;}</style><div id=\"sk-container-id-6\" class=\"sk-top-container\"><div class=\"sk-text-repr-fallback\"><pre>ElasticNetCV(alphas=array([1.00000000e-04, 2.78255940e-04, 7.74263683e-04, 2.15443469e-03,\n",
       "       5.99484250e-03, 1.66810054e-02, 4.64158883e-02, 1.29154967e-01,\n",
       "       3.59381366e-01, 1.00000000e+00]),\n",
       "             cv=5,\n",
       "             l1_ratio=array([0.1, 0.2, 0.3, 0.4, 0.5, 0.6, 0.7, 0.8, 0.9]),\n",
       "             random_state=0)</pre><b>In a Jupyter environment, please rerun this cell to show the HTML representation or trust the notebook. <br />On GitHub, the HTML representation is unable to render, please try loading this page with nbviewer.org.</b></div><div class=\"sk-container\" hidden><div class=\"sk-item\"><div class=\"sk-estimator sk-toggleable\"><input class=\"sk-toggleable__control sk-hidden--visually\" id=\"sk-estimator-id-6\" type=\"checkbox\" checked><label for=\"sk-estimator-id-6\" class=\"sk-toggleable__label sk-toggleable__label-arrow\">ElasticNetCV</label><div class=\"sk-toggleable__content\"><pre>ElasticNetCV(alphas=array([1.00000000e-04, 2.78255940e-04, 7.74263683e-04, 2.15443469e-03,\n",
       "       5.99484250e-03, 1.66810054e-02, 4.64158883e-02, 1.29154967e-01,\n",
       "       3.59381366e-01, 1.00000000e+00]),\n",
       "             cv=5,\n",
       "             l1_ratio=array([0.1, 0.2, 0.3, 0.4, 0.5, 0.6, 0.7, 0.8, 0.9]),\n",
       "             random_state=0)</pre></div></div></div></div></div>"
      ],
      "text/plain": [
       "ElasticNetCV(alphas=array([1.00000000e-04, 2.78255940e-04, 7.74263683e-04, 2.15443469e-03,\n",
       "       5.99484250e-03, 1.66810054e-02, 4.64158883e-02, 1.29154967e-01,\n",
       "       3.59381366e-01, 1.00000000e+00]),\n",
       "             cv=5,\n",
       "             l1_ratio=array([0.1, 0.2, 0.3, 0.4, 0.5, 0.6, 0.7, 0.8, 0.9]),\n",
       "             random_state=0)"
      ]
     },
     "execution_count": 56,
     "metadata": {},
     "output_type": "execute_result"
    }
   ],
   "source": [
    "#modelo ElasticNetCV\n",
    "elastic_net_cv = ElasticNetCV(l1_ratio=l1_ratios, alphas=alphas, cv=5, random_state=0)\n",
    "elastic_net_cv.fit(X_train_clean, y_train_clean)"
   ]
  },
  {
   "cell_type": "code",
   "execution_count": 57,
   "metadata": {},
   "outputs": [
    {
     "name": "stdout",
     "output_type": "stream",
     "text": [
      "Mejor l1_ratio: 0.1\n",
      "Mejor alpha: 0.046415888336127774\n"
     ]
    }
   ],
   "source": [
    "# Mejores parámetros encontrados\n",
    "print(\"Mejor l1_ratio:\", elastic_net_cv.l1_ratio_)\n",
    "print(\"Mejor alpha:\", elastic_net_cv.alpha_)"
   ]
  },
  {
   "cell_type": "markdown",
   "metadata": {},
   "source": [
    "#### Ecuación Modelo 1"
   ]
  },
  {
   "cell_type": "code",
   "execution_count": 61,
   "metadata": {},
   "outputs": [
    {
     "name": "stdout",
     "output_type": "stream",
     "text": [
      "Ecuación de regresión:\n",
      "MEDV = 22.5676 + (-0.6722)*CRIM + (0.5963)*ZN + (-0.1327)*INDUS + (0.8066)*CHAS + (-1.3970)*NOX + (3.2617)*RM + (-0.2837)*AGE + (-2.3649)*DIS + (1.0197)*RAD + (-1.0033)*TAX + (-2.0776)*PTRATIO + (0.7784)*B + (-3.2308)*LSTAT\n"
     ]
    }
   ],
   "source": [
    "# Coeficientes del modelo\n",
    "coefficients = elastic_net_cv.coef_\n",
    "\n",
    "# Intercepción\n",
    "intercept = elastic_net_cv.intercept_\n",
    "\n",
    "# Nombres de las columnas (variables)\n",
    "features = X_train.columns\n",
    "\n",
    "# Construir la ecuación en formato de texto\n",
    "regression_eq = f\"MEDV = {intercept:.4f}\"\n",
    "for coef, feature in zip(coefficients, features):\n",
    "    regression_eq += f\" + ({coef:.4f})*{feature}\"\n",
    "\n",
    "print(\"Ecuación de regresión:\")\n",
    "print(regression_eq)\n"
   ]
  },
  {
   "cell_type": "markdown",
   "metadata": {},
   "source": [
    "### Evaluar el Modelo 1"
   ]
  },
  {
   "cell_type": "code",
   "execution_count": 58,
   "metadata": {},
   "outputs": [
    {
     "name": "stderr",
     "output_type": "stream",
     "text": [
      "/Users/danielmartinezvillegas/anaconda3/envs/personal/lib/python3.8/site-packages/sklearn/base.py:464: UserWarning: X does not have valid feature names, but ElasticNetCV was fitted with feature names\n",
      "  warnings.warn(\n"
     ]
    }
   ],
   "source": [
    "# Estandarizar el conjunto de prueba\n",
    "X_test_scaled = scaler.transform(X_test)\n",
    "\n",
    "# Realizar predicciones con el modelo ajustado\n",
    "y_pred = elastic_net_cv.predict(X_test_scaled)"
   ]
  },
  {
   "cell_type": "code",
   "execution_count": 59,
   "metadata": {},
   "outputs": [
    {
     "name": "stdout",
     "output_type": "stream",
     "text": [
      "RMSE en el conjunto de prueba: 5.8309678417663315\n"
     ]
    }
   ],
   "source": [
    "rmse = mean_squared_error(y_test, y_pred, squared=False)\n",
    "print(\"RMSE en el conjunto de prueba:\", rmse)"
   ]
  },
  {
   "cell_type": "markdown",
   "metadata": {},
   "source": [
    "- El modelo 1 tiene un RMSE de **5.83**\n",
    "- El RMSE de 5.79 es menor que la desviación estándar de MEDV (9.07). Esto es una buena señal y sugiere que tu modelo está realizando predicciones razonablemente precisas. Generalmente, si el RMSE es menor que la desviación estándar, se considera que el modelo tiene una precisión aceptable.\n",
    "- El RMSE es aproximadamente el 26% del valor medio de MEDV (5.79 / 22.22 ≈ 0.26). Esto nos da una idea de que el error promedio de las predicciones es una cuarta parte del valor medio de las propiedades, lo cual puede ser aceptable dependiendo de tus requisitos de precisión."
   ]
  },
  {
   "cell_type": "code",
   "execution_count": 60,
   "metadata": {},
   "outputs": [
    {
     "name": "stdout",
     "output_type": "stream",
     "text": [
      "Average MEDV: 22.21960784313725\n",
      "Scale MEDV: 9.068332880459835\n"
     ]
    }
   ],
   "source": [
    "# get average and scale of MEDV from the test set\n",
    "average_MEDV = y_test.mean()\n",
    "scale_MEDV = y_test.std()\n",
    "print(\"Average MEDV:\", average_MEDV)\n",
    "print(\"Scale MEDV:\", scale_MEDV)"
   ]
  }
 ],
 "metadata": {
  "kernelspec": {
   "display_name": "personal",
   "language": "python",
   "name": "python3"
  },
  "language_info": {
   "codemirror_mode": {
    "name": "ipython",
    "version": 3
   },
   "file_extension": ".py",
   "mimetype": "text/x-python",
   "name": "python",
   "nbconvert_exporter": "python",
   "pygments_lexer": "ipython3",
   "version": "3.8.15"
  }
 },
 "nbformat": 4,
 "nbformat_minor": 2
}
