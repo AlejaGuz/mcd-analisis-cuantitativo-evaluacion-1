{
 "cells": [
  {
   "cell_type": "markdown",
   "metadata": {},
   "source": [
    "# Actividad Evaluativa 1\n",
    "## Análisis cuantitativo G1 - 241\n",
    "### Integrantes\n",
    "- Alejandra Ruiz\n",
    "- Felipe Montenegro\n",
    "- Juan Camilo Vergara\n",
    "- Daniel Martínez V."
   ]
  }
 ],
 "metadata": {
  "language_info": {
   "name": "python"
  }
 },
 "nbformat": 4,
 "nbformat_minor": 2
}
