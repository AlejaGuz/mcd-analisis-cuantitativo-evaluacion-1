{
 "cells": [
  {
   "cell_type": "markdown",
   "metadata": {},
   "source": [
    "# Actividad Evaluativa 1\n",
    "## Análisis cuantitativo G1 - 241\n",
    "### Integrantes\n",
    "- Alejandra Ruiz\n",
    "- Felipe Montenegro\n",
    "- Juan Camilo Vergara\n",
    "- Daniel Martínez V."
   ]
  }
 ],
 "metadata": {
  "kernelspec": {
   "display_name": "Python 3",
   "language": "python",
   "name": "python3"
  },
  "language_info": {
   "name": "python",
   "version": "3.10.11"
  }
 },
 "nbformat": 4,
 "nbformat_minor": 2
}
