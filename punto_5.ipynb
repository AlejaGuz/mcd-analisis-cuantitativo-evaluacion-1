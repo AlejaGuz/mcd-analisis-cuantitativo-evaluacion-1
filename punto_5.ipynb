{
 "cells": [
  {
   "cell_type": "markdown",
   "metadata": {},
   "source": [
    "# Notebook - Felipe Montenegro F.\n",
    "## Análisis Cuantitativo"
   ]
  }
 ],
 "metadata": {
  "language_info": {
   "name": "python"
  }
 },
 "nbformat": 4,
 "nbformat_minor": 2
}
