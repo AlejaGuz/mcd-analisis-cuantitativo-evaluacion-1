{
 "cells": [
  {
   "cell_type": "markdown",
   "metadata": {},
   "source": [
    "# PUNTO 4 - JUAN CAMILO VERGARA"
   ]
  },
  {
   "cell_type": "code",
   "execution_count": 2,
   "metadata": {},
   "outputs": [],
   "source": [
    "import pandas as pd   ## Libreria para manipular y analizar datos\n",
    "import matplotlib.pyplot as plt  ## Libreria para visualizar\n",
    "import seaborn as sns   ## Libreria para visualizar\n",
    "import numpy as np  ## Libreria para operaciones numéricas\n",
    "import plotly  ## Libreria para visualizaciones interactivas\n",
    "import matplotlib.ticker as mtick  ## función para formatear en visualizaciones\n",
    "from scipy.stats import skew, kurtosis  ## funciones estadísticas\n",
    "from scipy.stats import norm ## distribución normal\n",
    "from scipy.stats import poisson ## distribución Poisson\n",
    "from scipy.stats import t ## distribución t\n",
    "from scipy.stats import f ## distribución F\n",
    "from scipy.stats import ttest_1samp  ## Prueba t una población\n",
    "from scipy.stats import ttest_ind ## Prueba t comparación medias\n",
    "from scipy.stats import shapiro ## Prueba normalidad Shapiro-Wilks\n",
    "from scipy.stats import anderson ## Prueba normalidad Anderson-Darling\n",
    "from scipy.stats import levene ## Prueba homogeneidad de varianzas Levene\n",
    "from scipy.stats import mannwhitneyu ## Prueba Mann-Whitney-Wilcoxon (comparación dos poblaciones)\n",
    "from scipy.stats import f_oneway ## Prueba ANOVA de una vía\n",
    "from scipy.stats import chi2_contingency ## Prueba chi cuadrado de Pearson\n",
    "from scipy.stats import pearsonr ## Coeficiente de correlación de Pearson con prueba\n",
    "import statsmodels.stats as sm  ## estadísticas\n",
    "import statsmodels.api as sm1  ## estadísticas\n",
    "from statsmodels.graphics.gofplots import qqplot ## Gráfico QQ plot\n",
    "import pingouin as pg ## Librería funciones estadísticas"
   ]
  },
  {
   "cell_type": "code",
   "execution_count": null,
   "metadata": {},
   "outputs": [],
   "source": [
    "ruta_archivo = \"C:/Documents//datasets/publicidad.csv\"\n",
    "df = pd.read_excel(ruta_archivo)"
   ]
  }
 ],
 "metadata": {
  "kernelspec": {
   "display_name": "Python 3 (ipykernel)",
   "language": "python",
   "name": "python3"
  },
  "language_info": {
   "codemirror_mode": {
    "name": "ipython",
    "version": 3
   },
   "file_extension": ".py",
   "mimetype": "text/x-python",
   "name": "python",
   "nbconvert_exporter": "python",
   "pygments_lexer": "ipython3",
   "version": "3.11.5"
  }
 },
 "nbformat": 4,
 "nbformat_minor": 2
}
